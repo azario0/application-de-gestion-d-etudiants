{
 "cells": [
  {
   "cell_type": "markdown",
   "metadata": {},
   "source": [
    "# SQL CODE\n",
    "\n",
    "CREATE DATABASE school;\n",
    "\n",
    "USE school;\n",
    "\n",
    "CREATE TABLE classes (\n",
    "    class_id INT AUTO_INCREMENT PRIMARY KEY,\n",
    "    class_name VARCHAR(50) NOT NULL\n",
    ");\n",
    "\n",
    "CREATE TABLE users (\n",
    "    user_id INT AUTO_INCREMENT PRIMARY KEY,\n",
    "    username VARCHAR(50) NOT NULL UNIQUE,\n",
    "    password VARCHAR(255) NOT NULL,\n",
    "    first_name VARCHAR(50) NOT NULL,\n",
    "    last_name VARCHAR(50) NOT NULL,\n",
    "    class_id INT,\n",
    "    FOREIGN KEY (class_id) REFERENCES classes(class_id)\n",
    ");\n",
    "\n",
    "CREATE TABLE modules (\n",
    "    module_id INT AUTO_INCREMENT PRIMARY KEY,\n",
    "    module_name VARCHAR(50) NOT NULL,\n",
    "    class_id INT,\n",
    "    user_id INT,\n",
    "    mark INT,\n",
    "    FOREIGN KEY (class_id) REFERENCES classes(class_id),\n",
    "    FOREIGN KEY (user_id) REFERENCES users(user_id)\n",
    ");\n"
   ]
  },
  {
   "cell_type": "code",
   "execution_count": null,
   "metadata": {},
   "outputs": [],
   "source": []
  }
 ],
 "metadata": {
  "language_info": {
   "name": "python"
  }
 },
 "nbformat": 4,
 "nbformat_minor": 2
}
